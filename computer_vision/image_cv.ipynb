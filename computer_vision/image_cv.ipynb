#!/usr/bin/python3

import cv2

url='dog.jpg'
img=cv2.imread(url)
print(img)
print(type(img))
print(img.shape)
cv2.imshow('color',img)
cv2.waitKey(0)
cv2.destroyWindow('color')
