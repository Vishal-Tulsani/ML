{
 "cells": [
  {
   "cell_type": "markdown",
   "metadata": {},
   "source": [
    "## Importing Libraries"
   ]
  },
  {
   "cell_type": "code",
   "execution_count": 57,
   "metadata": {},
   "outputs": [],
   "source": [
    "import pandas as pd\n",
    "import numpy as np\n",
    "import matplotlib.pyplot as plt\n",
    "import seaborn as sb\n",
    "from sklearn.model_selection import train_test_split\n",
    "from sklearn.metrics import accuracy_score\n",
    "import statsmodels.api as sm"
   ]
  },
  {
   "cell_type": "markdown",
   "metadata": {},
   "source": [
    "## Reading Data file"
   ]
  },
  {
   "cell_type": "code",
   "execution_count": 58,
   "metadata": {},
   "outputs": [],
   "source": [
    "df=pd.read_csv('icici_bank.csv')"
   ]
  },
  {
   "cell_type": "code",
   "execution_count": 59,
   "metadata": {},
   "outputs": [
    {
     "data": {
      "text/html": [
       "<div>\n",
       "<style scoped>\n",
       "    .dataframe tbody tr th:only-of-type {\n",
       "        vertical-align: middle;\n",
       "    }\n",
       "\n",
       "    .dataframe tbody tr th {\n",
       "        vertical-align: top;\n",
       "    }\n",
       "\n",
       "    .dataframe thead th {\n",
       "        text-align: right;\n",
       "    }\n",
       "</style>\n",
       "<table border=\"1\" class=\"dataframe\">\n",
       "  <thead>\n",
       "    <tr style=\"text-align: right;\">\n",
       "      <th></th>\n",
       "      <th>Symbol</th>\n",
       "      <th>Series</th>\n",
       "      <th>Date</th>\n",
       "      <th>Prev Close</th>\n",
       "      <th>Open Price</th>\n",
       "      <th>High Price</th>\n",
       "      <th>Low Price</th>\n",
       "      <th>Last Price</th>\n",
       "      <th>Close Price</th>\n",
       "      <th>Average Price</th>\n",
       "      <th>Total Traded Quantity</th>\n",
       "      <th>Turnover</th>\n",
       "      <th>No. of Trades</th>\n",
       "      <th>Deliverable Qty</th>\n",
       "      <th>% Dly Qt to Traded Qty</th>\n",
       "    </tr>\n",
       "  </thead>\n",
       "  <tbody>\n",
       "    <tr>\n",
       "      <th>0</th>\n",
       "      <td>ICICIBANK</td>\n",
       "      <td>EQ</td>\n",
       "      <td>05-Jun-2017</td>\n",
       "      <td>318.15</td>\n",
       "      <td>318.50</td>\n",
       "      <td>321.65</td>\n",
       "      <td>318.15</td>\n",
       "      <td>319.55</td>\n",
       "      <td>319.75</td>\n",
       "      <td>320.03</td>\n",
       "      <td>8937594</td>\n",
       "      <td>2.860320e+09</td>\n",
       "      <td>67308</td>\n",
       "      <td>4931519</td>\n",
       "      <td>55.18</td>\n",
       "    </tr>\n",
       "    <tr>\n",
       "      <th>1</th>\n",
       "      <td>ICICIBANK</td>\n",
       "      <td>EQ</td>\n",
       "      <td>06-Jun-2017</td>\n",
       "      <td>319.75</td>\n",
       "      <td>320.55</td>\n",
       "      <td>321.05</td>\n",
       "      <td>317.70</td>\n",
       "      <td>318.80</td>\n",
       "      <td>318.95</td>\n",
       "      <td>318.67</td>\n",
       "      <td>9779283</td>\n",
       "      <td>3.116378e+09</td>\n",
       "      <td>64327</td>\n",
       "      <td>6285074</td>\n",
       "      <td>64.27</td>\n",
       "    </tr>\n",
       "    <tr>\n",
       "      <th>2</th>\n",
       "      <td>ICICIBANK</td>\n",
       "      <td>EQ</td>\n",
       "      <td>07-Jun-2017</td>\n",
       "      <td>318.95</td>\n",
       "      <td>321.05</td>\n",
       "      <td>325.95</td>\n",
       "      <td>320.75</td>\n",
       "      <td>324.95</td>\n",
       "      <td>324.70</td>\n",
       "      <td>323.82</td>\n",
       "      <td>13705491</td>\n",
       "      <td>4.438157e+09</td>\n",
       "      <td>144130</td>\n",
       "      <td>6389543</td>\n",
       "      <td>46.62</td>\n",
       "    </tr>\n",
       "    <tr>\n",
       "      <th>3</th>\n",
       "      <td>ICICIBANK</td>\n",
       "      <td>EQ</td>\n",
       "      <td>08-Jun-2017</td>\n",
       "      <td>324.70</td>\n",
       "      <td>325.90</td>\n",
       "      <td>327.00</td>\n",
       "      <td>319.50</td>\n",
       "      <td>319.80</td>\n",
       "      <td>320.20</td>\n",
       "      <td>321.39</td>\n",
       "      <td>18300293</td>\n",
       "      <td>5.881458e+09</td>\n",
       "      <td>97471</td>\n",
       "      <td>11773561</td>\n",
       "      <td>64.34</td>\n",
       "    </tr>\n",
       "    <tr>\n",
       "      <th>4</th>\n",
       "      <td>ICICIBANK</td>\n",
       "      <td>EQ</td>\n",
       "      <td>09-Jun-2017</td>\n",
       "      <td>320.20</td>\n",
       "      <td>318.95</td>\n",
       "      <td>323.10</td>\n",
       "      <td>316.10</td>\n",
       "      <td>322.00</td>\n",
       "      <td>322.15</td>\n",
       "      <td>320.38</td>\n",
       "      <td>9263914</td>\n",
       "      <td>2.967942e+09</td>\n",
       "      <td>55100</td>\n",
       "      <td>4033351</td>\n",
       "      <td>43.54</td>\n",
       "    </tr>\n",
       "  </tbody>\n",
       "</table>\n",
       "</div>"
      ],
      "text/plain": [
       "      Symbol Series         Date  Prev Close  Open Price  High Price  \\\n",
       "0  ICICIBANK     EQ  05-Jun-2017      318.15      318.50      321.65   \n",
       "1  ICICIBANK     EQ  06-Jun-2017      319.75      320.55      321.05   \n",
       "2  ICICIBANK     EQ  07-Jun-2017      318.95      321.05      325.95   \n",
       "3  ICICIBANK     EQ  08-Jun-2017      324.70      325.90      327.00   \n",
       "4  ICICIBANK     EQ  09-Jun-2017      320.20      318.95      323.10   \n",
       "\n",
       "   Low Price  Last Price  Close Price  Average Price  Total Traded Quantity  \\\n",
       "0     318.15      319.55       319.75         320.03                8937594   \n",
       "1     317.70      318.80       318.95         318.67                9779283   \n",
       "2     320.75      324.95       324.70         323.82               13705491   \n",
       "3     319.50      319.80       320.20         321.39               18300293   \n",
       "4     316.10      322.00       322.15         320.38                9263914   \n",
       "\n",
       "       Turnover  No. of Trades  Deliverable Qty  % Dly Qt to Traded Qty  \n",
       "0  2.860320e+09          67308          4931519                   55.18  \n",
       "1  3.116378e+09          64327          6285074                   64.27  \n",
       "2  4.438157e+09         144130          6389543                   46.62  \n",
       "3  5.881458e+09          97471         11773561                   64.34  \n",
       "4  2.967942e+09          55100          4033351                   43.54  "
      ]
     },
     "execution_count": 59,
     "metadata": {},
     "output_type": "execute_result"
    }
   ],
   "source": [
    "# Here we are seeing small amount of datasets\n",
    "df.head()"
   ]
  },
  {
   "cell_type": "code",
   "execution_count": 60,
   "metadata": {},
   "outputs": [
    {
     "data": {
      "text/plain": [
       "array([[318.15, 318.5 , 321.65, ..., 319.55, 319.75, 320.03],\n",
       "       [319.75, 320.55, 321.05, ..., 318.8 , 318.95, 318.67],\n",
       "       [318.95, 321.05, 325.95, ..., 324.95, 324.7 , 323.82],\n",
       "       ...,\n",
       "       [423.3 , 420.85, 428.  , ..., 427.95, 426.2 , 424.71],\n",
       "       [426.2 , 427.  , 430.2 , ..., 421.6 , 423.7 , 424.04],\n",
       "       [423.7 , 426.  , 426.4 , ..., 422.85, 422.9 , 423.15]])"
      ]
     },
     "execution_count": 60,
     "metadata": {},
     "output_type": "execute_result"
    }
   ],
   "source": [
    "# Selecting the features which are 'Prev Close', 'Open Price','High Price', 'Low Price', 'Last Price', 'Close Price', 'Average Price', 'Total Traded Quantity'.\n",
    "features=df.iloc[:,3:10].values\n",
    "features"
   ]
  },
  {
   "cell_type": "code",
   "execution_count": 61,
   "metadata": {},
   "outputs": [
    {
     "data": {
      "text/plain": [
       "array([2.86032020e+09, 3.11637794e+09, 4.43815676e+09, 5.88145805e+09,\n",
       "       2.96794189e+09, 2.99264022e+09, 2.67852071e+09, 6.44234160e+09,\n",
       "       3.23224762e+09, 6.68777924e+09, 3.10809264e+09, 4.93659605e+09,\n",
       "       2.07997378e+09, 2.67267165e+09, 4.32624389e+09, 5.18813690e+09,\n",
       "       4.99244114e+09, 1.01913857e+10, 3.60315070e+09, 1.77258152e+09,\n",
       "       2.42202786e+09, 2.02470049e+09, 2.92879250e+09, 2.46391216e+09,\n",
       "       3.99911898e+08, 3.16088549e+09, 2.35211845e+09, 4.09115358e+09,\n",
       "       1.84001499e+09, 3.78353649e+09, 3.58115296e+09, 3.26734747e+09,\n",
       "       2.55018920e+09, 2.91213952e+09, 4.74508388e+09, 5.51061804e+09,\n",
       "       8.00415249e+09, 8.83541783e+09, 9.12428027e+09, 6.51813665e+09,\n",
       "       3.25112521e+09, 2.52706472e+09, 4.27374690e+09, 2.98760456e+09,\n",
       "       3.57645561e+09, 3.05510863e+09, 3.78152193e+09, 4.96140301e+09,\n",
       "       4.92350307e+09, 2.44913719e+09, 2.51201393e+09, 2.40414015e+09,\n",
       "       1.96245543e+09, 3.13718028e+09, 2.21954588e+09, 2.72050157e+09,\n",
       "       3.80648423e+09, 2.65155484e+09, 3.82877862e+09, 2.57236983e+09,\n",
       "       4.43100000e+09, 2.22978490e+09, 1.85541392e+09, 2.28883539e+09,\n",
       "       1.43286903e+09, 4.59673138e+09, 2.35537274e+09, 2.22623872e+09,\n",
       "       2.48103324e+09, 2.42479546e+09, 3.60434363e+09, 6.60655570e+09,\n",
       "       3.27813779e+09, 2.20935379e+09, 4.25730870e+09, 4.13508378e+09,\n",
       "       6.53244338e+09, 3.71846256e+09, 3.17958897e+09, 4.95130867e+09,\n",
       "       8.83574916e+09, 2.78067522e+09, 1.87452321e+09, 2.05575885e+09,\n",
       "       2.99413310e+09, 6.93958620e+09, 5.59484183e+09, 5.03240140e+09,\n",
       "       3.41595363e+09, 3.15079827e+09, 3.91956614e+09, 3.51072896e+09,\n",
       "       2.52113553e+09, 8.10552415e+09, 9.89618081e+08, 6.01012919e+09,\n",
       "       4.01261805e+09, 3.65448397e+10, 1.30314283e+10, 1.10103752e+10,\n",
       "       1.15183765e+10, 5.73043173e+09, 1.21621591e+10, 8.80338065e+09,\n",
       "       4.50866196e+09, 5.18022232e+09, 3.98595400e+09, 3.69260138e+09,\n",
       "       3.95436103e+09, 6.66219623e+09, 4.35151265e+09, 3.86975379e+09,\n",
       "       4.55682910e+09, 2.85537413e+09, 6.70779834e+09, 4.34287389e+09,\n",
       "       4.19357217e+09, 2.98716657e+09, 3.18185728e+09, 2.50189079e+09,\n",
       "       2.94713041e+09, 4.37081609e+09, 3.89837440e+09, 7.35782117e+09,\n",
       "       2.02564400e+09, 2.66876297e+09, 2.51023186e+09, 2.03679409e+09,\n",
       "       2.25375103e+09, 3.32108751e+09, 2.11910107e+09, 3.69229549e+09,\n",
       "       4.50574945e+09, 3.38364330e+09, 7.06396711e+09, 4.97504472e+09,\n",
       "       4.11099086e+09, 4.42335100e+09, 3.05338506e+09, 2.41516050e+09,\n",
       "       2.41711677e+09, 2.00040615e+09, 7.13128814e+09, 3.02866566e+09,\n",
       "       2.40645244e+09, 2.18107154e+09, 2.80139786e+09, 2.00456159e+09,\n",
       "       1.99394666e+09, 2.31194209e+09, 2.87033678e+09, 2.10122789e+09,\n",
       "       2.58935210e+09, 3.68588448e+09, 9.91824696e+09, 8.93540518e+09,\n",
       "       1.47251894e+10, 1.09636425e+10, 6.57494188e+09, 5.32272120e+09,\n",
       "       8.06782656e+09, 4.54343697e+09, 1.08376080e+10, 6.43181905e+09,\n",
       "       4.72617536e+09, 7.89753662e+09, 1.03206629e+10, 5.72460585e+09,\n",
       "       5.72844933e+09, 6.02329996e+09, 3.93661013e+09, 3.44459514e+09,\n",
       "       3.09025409e+09, 2.72892800e+09, 4.87854656e+09, 7.79583203e+09,\n",
       "       5.71038826e+09, 6.09553824e+09, 5.11524644e+09, 3.17541358e+09,\n",
       "       8.11218058e+09, 2.55568994e+09, 2.32349069e+09, 3.10142784e+09,\n",
       "       5.47550932e+09, 5.84525006e+09, 4.37180197e+09, 5.68786849e+09,\n",
       "       9.06292283e+09, 6.26831851e+09, 3.68589721e+09, 3.61153610e+09,\n",
       "       4.84546550e+09, 3.91777287e+09, 4.01832067e+09, 8.61721220e+09,\n",
       "       4.01680621e+09, 3.19330656e+09, 3.96806464e+09, 6.99865256e+09,\n",
       "       8.80303084e+09, 6.86524517e+09, 6.36872980e+09, 7.57945623e+09,\n",
       "       1.92862734e+10, 1.08393558e+10, 9.00541781e+09, 7.36793846e+09,\n",
       "       8.83546262e+09, 8.85264751e+09, 1.29433537e+10, 4.78833220e+09,\n",
       "       6.59655107e+09, 5.05143320e+09, 4.84774452e+09, 4.47640472e+09,\n",
       "       6.05665710e+09, 4.99403057e+09, 5.61619360e+09, 3.24302850e+09,\n",
       "       4.38345774e+09, 2.23846047e+09, 3.92251582e+09, 4.74974990e+09,\n",
       "       2.78209896e+09, 3.95424915e+09, 4.14492512e+09, 3.35678786e+09,\n",
       "       5.65833628e+09, 2.69291850e+10, 6.18777034e+09, 5.01249570e+09,\n",
       "       5.16691768e+09, 3.21403939e+09, 5.10795540e+09, 7.63936233e+09,\n",
       "       3.17451997e+09, 5.03230942e+09, 6.71759009e+09, 3.28008309e+09,\n",
       "       4.67436170e+09, 3.39522776e+09, 4.02351879e+09, 5.70851205e+09,\n",
       "       3.79076566e+09, 7.17552381e+09, 6.71444604e+09, 8.68959533e+09,\n",
       "       4.96437663e+09, 3.52574734e+09, 4.78537906e+09, 5.89601285e+09,\n",
       "       3.25719860e+09, 4.85145902e+09, 4.09211450e+09, 3.17252318e+09,\n",
       "       3.26117321e+09, 1.33768147e+10, 8.08102731e+09, 7.91965049e+09,\n",
       "       5.96746601e+09, 8.99995383e+09, 5.22576240e+09, 4.53733858e+09,\n",
       "       3.32826650e+09, 7.06509385e+09, 9.32701223e+09, 5.73120833e+09,\n",
       "       1.91400997e+10, 3.84871551e+09, 2.24536502e+09, 2.04980460e+09,\n",
       "       7.02202483e+09, 5.00821423e+09, 3.96107774e+09, 3.44316941e+09,\n",
       "       4.30343291e+09, 5.13949962e+09, 7.73407237e+09, 3.99762902e+09,\n",
       "       6.03821206e+09, 3.96332731e+09, 3.66687239e+09, 4.60359426e+09,\n",
       "       3.30303448e+09, 4.91736527e+09, 1.03908731e+10, 8.99321424e+09,\n",
       "       1.69829501e+10, 6.34361017e+09, 4.70193201e+09, 4.19876837e+09,\n",
       "       4.40312551e+09, 8.13199883e+09, 6.52882785e+09, 5.63798307e+09,\n",
       "       2.55810919e+10, 1.20334119e+10, 4.98053302e+09, 5.04585028e+09,\n",
       "       1.25737749e+10, 8.18416439e+09, 4.42489693e+09, 5.40617053e+09,\n",
       "       6.35636951e+09, 5.88955301e+09, 9.51498282e+09, 5.56792919e+09,\n",
       "       6.42605157e+09, 7.64782559e+09, 6.77870395e+09, 4.33949987e+09,\n",
       "       5.11868935e+09, 4.77031502e+09, 3.72432524e+09, 5.44555044e+09,\n",
       "       5.55567472e+09, 4.30589163e+09, 4.91901238e+09, 3.50914122e+09,\n",
       "       2.34668835e+09, 4.77853527e+09, 5.11601173e+09, 1.10650151e+10,\n",
       "       7.60214947e+09, 9.32418815e+09, 7.21837009e+09, 7.66473214e+09,\n",
       "       8.04303590e+09, 6.50706892e+09, 5.89150476e+09, 1.74990840e+10,\n",
       "       1.13325682e+10, 6.30258216e+09, 4.55516065e+09, 7.58318177e+09,\n",
       "       6.76287103e+09, 8.30025307e+09, 7.44231129e+09, 5.77491021e+09,\n",
       "       6.50327129e+09, 5.80142840e+09, 1.09256327e+10, 6.95789656e+09,\n",
       "       1.07278777e+10, 8.55363757e+09, 7.30877469e+09, 2.73401704e+10,\n",
       "       1.19946713e+10, 1.09111641e+10, 7.85427930e+09, 9.48886111e+09,\n",
       "       8.00547275e+09, 7.53256994e+09, 7.38196155e+08, 5.37797460e+09,\n",
       "       3.77212629e+09, 6.29411619e+09, 1.16236773e+10, 8.11492727e+09,\n",
       "       1.10955090e+10, 5.81953064e+09, 7.03487681e+09, 1.04608101e+10,\n",
       "       4.44871655e+09, 7.33314977e+09, 6.34774048e+09, 6.47034909e+09,\n",
       "       1.40404323e+10, 7.83776972e+09, 8.31170967e+09, 6.65750620e+09,\n",
       "       4.26139640e+09, 6.16632389e+09, 5.23612911e+09, 4.89387331e+09,\n",
       "       1.25721342e+10, 8.59762404e+09, 6.71990579e+09, 4.26331340e+09,\n",
       "       6.59071055e+09, 5.52331010e+09, 7.11610236e+09, 4.40084060e+09,\n",
       "       4.82820121e+09, 3.19609237e+09, 3.06476725e+09, 3.62014357e+09,\n",
       "       4.69445460e+09, 2.64160147e+09, 2.79630788e+09, 6.65636466e+09,\n",
       "       4.70684663e+09, 8.31016682e+09, 4.69512583e+09, 8.08071860e+09,\n",
       "       8.27841539e+09, 5.49380155e+09, 4.73428660e+09, 5.55721998e+09,\n",
       "       4.83060487e+09, 5.69594857e+09, 4.94228539e+09, 4.55639421e+09,\n",
       "       3.32383541e+09, 5.43889926e+09, 3.60503878e+09, 6.39611565e+09,\n",
       "       8.25806212e+09, 1.18005955e+10, 7.14430811e+09, 1.42585646e+10,\n",
       "       3.15473666e+10, 9.15084791e+09, 5.98649424e+09, 4.29395842e+09,\n",
       "       5.52511379e+09, 3.68321389e+09, 3.29659069e+09, 3.31204071e+09,\n",
       "       5.19895070e+09, 4.02775096e+09, 5.19350370e+09, 6.98110954e+09,\n",
       "       3.60134568e+09, 4.97572698e+09, 3.27056464e+09, 6.56150281e+09,\n",
       "       3.87600180e+09, 3.67891895e+09, 6.32279203e+09, 6.02825616e+09,\n",
       "       6.38300515e+09, 5.00618457e+09, 6.33181907e+09, 1.16355230e+10,\n",
       "       5.69378433e+09, 5.98034159e+09, 4.30260007e+09, 1.43365244e+10,\n",
       "       7.61712603e+09, 5.13024599e+09, 1.24200437e+10, 8.41446750e+09,\n",
       "       4.64658019e+09, 5.59441555e+09, 6.84012188e+09, 4.74553849e+09,\n",
       "       5.47721093e+09, 7.07635153e+09, 9.22232616e+09, 7.50868682e+09,\n",
       "       6.51552511e+09, 5.15140789e+09, 4.89002852e+09, 5.67793500e+09,\n",
       "       4.22019387e+09, 2.44905615e+09, 5.18478859e+09, 5.53886124e+09,\n",
       "       3.39711026e+09, 2.75966162e+09, 3.85841519e+09, 9.91257644e+09,\n",
       "       7.58909489e+09, 4.17910601e+09, 4.05276546e+09, 4.53361033e+09,\n",
       "       6.58103996e+09, 5.74756397e+09, 7.88995680e+09, 6.62674008e+09,\n",
       "       9.78860692e+09, 8.31172838e+09, 1.64901791e+10, 8.66463565e+09,\n",
       "       7.54239073e+09, 7.08727621e+09, 5.26605188e+09, 8.21466394e+09,\n",
       "       6.17338013e+09, 5.11587699e+09, 7.38253889e+09, 1.36460759e+10,\n",
       "       7.39065391e+09, 6.24085093e+09, 1.80644710e+10, 1.60037507e+10,\n",
       "       1.01485672e+10, 1.01292010e+10, 9.42376548e+09, 7.76410426e+09,\n",
       "       1.04504237e+10, 7.24654913e+09])"
      ]
     },
     "execution_count": 61,
     "metadata": {},
     "output_type": "execute_result"
    }
   ],
   "source": [
    "# Selecting the target or labels which are 'Turnover'.\n",
    "labels=df.iloc[:,11].values\n",
    "labels"
   ]
  },
  {
   "cell_type": "code",
   "execution_count": 62,
   "metadata": {},
   "outputs": [],
   "source": [
    "# now training and testing set\n",
    "train_x,test_x,train_y,test_y=train_test_split(features,labels,test_size=0.2,random_state=0)"
   ]
  },
  {
   "cell_type": "code",
   "execution_count": 63,
   "metadata": {},
   "outputs": [],
   "source": [
    "# calling linear regession\n",
    "from sklearn.linear_model import LinearRegression\n",
    "regr=LinearRegression()"
   ]
  },
  {
   "cell_type": "code",
   "execution_count": 64,
   "metadata": {},
   "outputs": [
    {
     "name": "stdout",
     "output_type": "stream",
     "text": [
      "Intercept: \n",
      " -1591910804.0349827\n",
      "Coefficients: \n",
      " [-2.31901823e+08 -3.18620578e+07  9.06825568e+08 -2.31585546e+08\n",
      " -3.20148104e+08  3.29552949e+08 -4.12005060e+08]\n"
     ]
    }
   ],
   "source": [
    "# now applying training data and answers\n",
    "regr.fit(train_x,train_y)\n",
    "print('Intercept: \\n', regr.intercept_)\n",
    "print('Coefficients: \\n', regr.coef_)"
   ]
  },
  {
   "cell_type": "code",
   "execution_count": 65,
   "metadata": {},
   "outputs": [
    {
     "data": {
      "text/plain": [
       "array([7.21754802e+09, 6.58787936e+09, 6.44974962e+09, 2.95254437e+09,\n",
       "       4.57497538e+09, 5.71719197e+09, 6.83547983e+09, 4.19406899e+09,\n",
       "       4.90535173e+09, 7.62061334e+09, 3.38259655e+09, 5.38019238e+09,\n",
       "       8.69980427e+09, 4.60257793e+09, 5.43672680e+09, 8.11667258e+09,\n",
       "       4.48734161e+09, 5.11726348e+09, 6.06421892e+09, 5.73094242e+09,\n",
       "       8.45987858e+09, 5.38896395e+09, 4.61108641e+09, 5.29400699e+09,\n",
       "       4.94663227e+09, 9.35575991e+09, 4.26921589e+09, 3.67324672e+09,\n",
       "       4.78937950e+09, 7.98686622e+09, 1.03246426e+10, 5.91328648e+09,\n",
       "       5.72855291e+09, 4.94770258e+09, 8.43876535e+09, 4.38905496e+09,\n",
       "       5.56274606e+09, 4.91135997e+09, 1.88135469e+09, 6.57543772e+09,\n",
       "       8.78718913e+09, 2.99932579e+09, 4.43916307e+09, 4.34495025e+09,\n",
       "       4.57101207e+09, 3.35976469e+09, 1.02424985e+10, 4.52025423e+09,\n",
       "       1.66329364e+10, 4.61389630e+09, 1.22759557e+10, 5.70256634e+09,\n",
       "       5.37469259e+09, 4.37688063e+09, 9.54427866e+09, 2.40135978e+09,\n",
       "       8.73376359e+09, 7.49687999e+09, 7.77530136e+09, 7.33917812e+09,\n",
       "       9.15968784e+09, 4.98208883e+09, 8.48777126e+09, 6.35327823e+09,\n",
       "       5.00485510e+09, 1.64443533e+10, 4.74701334e+09, 4.38940019e+09,\n",
       "       3.89464610e+09, 3.72050610e+09, 5.04607172e+09, 1.07232931e+10,\n",
       "       6.38235625e+09, 3.79950560e+09, 4.85015307e+09, 6.55689156e+09,\n",
       "       7.48648772e+09, 6.64050387e+09, 6.27764715e+09, 7.05921200e+09,\n",
       "       6.64022359e+09, 3.66948553e+09, 5.68104520e+09, 3.54041275e+09,\n",
       "       4.56778964e+09, 4.52344152e+09, 3.54108113e+09, 5.76640237e+09,\n",
       "       4.48367775e+09, 6.42668705e+09, 6.07149976e+09, 3.12316597e+09,\n",
       "       3.88010523e+09, 8.68759471e+09, 7.91400802e+09, 2.64363837e+09,\n",
       "       2.90831707e+09, 3.17619386e+09, 5.52362483e+09])"
      ]
     },
     "execution_count": 65,
     "metadata": {},
     "output_type": "execute_result"
    }
   ],
   "source": [
    "# predict model\n",
    "output=regr.predict(test_x)\n",
    "output"
   ]
  },
  {
   "cell_type": "code",
   "execution_count": 66,
   "metadata": {},
   "outputs": [
    {
     "name": "stdout",
     "output_type": "stream",
     "text": [
      "                            OLS Regression Results                            \n",
      "==============================================================================\n",
      "Dep. Variable:                      y   R-squared:                       0.848\n",
      "Model:                            OLS   Adj. R-squared:                  0.845\n",
      "Method:                 Least Squares   F-statistic:                     308.4\n",
      "Date:                Wed, 05 Jun 2019   Prob (F-statistic):          3.11e-154\n",
      "Time:                        09:38:35   Log-Likelihood:                -9147.9\n",
      "No. Observations:                 395   AIC:                         1.831e+04\n",
      "Df Residuals:                     388   BIC:                         1.834e+04\n",
      "Df Model:                           7                                         \n",
      "Covariance Type:            nonrobust                                         \n",
      "==============================================================================\n",
      "                 coef    std err          t      P>|t|      [0.025      0.975]\n",
      "------------------------------------------------------------------------------\n",
      "x1         -2.349e+08   4.07e+07     -5.770      0.000   -3.15e+08   -1.55e+08\n",
      "x2         -3.615e+07   6.85e+07     -0.528      0.598   -1.71e+08    9.85e+07\n",
      "x3          8.976e+08    9.8e+07      9.155      0.000    7.05e+08    1.09e+09\n",
      "x4         -2.333e+08   7.98e+07     -2.924      0.004    -3.9e+08   -7.64e+07\n",
      "x5         -3.212e+08   1.92e+08     -1.674      0.095   -6.98e+08    5.61e+07\n",
      "x6          3.212e+08   2.15e+08      1.497      0.135   -1.01e+08    7.43e+08\n",
      "x7         -3.892e+08   1.53e+08     -2.538      0.012   -6.91e+08   -8.77e+07\n",
      "==============================================================================\n",
      "Omnibus:                      153.854   Durbin-Watson:                   1.876\n",
      "Prob(Omnibus):                  0.000   Jarque-Bera (JB):             1324.473\n",
      "Skew:                           1.407   Prob(JB):                    2.48e-288\n",
      "Kurtosis:                      11.518   Cond. No.                     1.75e+03\n",
      "==============================================================================\n",
      "\n",
      "Warnings:\n",
      "[1] Standard Errors assume that the covariance matrix of the errors is correctly specified.\n",
      "[2] The condition number is large, 1.75e+03. This might indicate that there are\n",
      "strong multicollinearity or other numerical problems.\n"
     ]
    }
   ],
   "source": [
    "# Here we are showing the data summary.\n",
    "model = sm.OLS(train_y, train_x).fit()\n",
    "predictions = model.predict(test_x) \n",
    " \n",
    "print_model = model.summary()\n",
    "print(print_model)"
   ]
  },
  {
   "cell_type": "code",
   "execution_count": 67,
   "metadata": {},
   "outputs": [
    {
     "data": {
      "text/plain": [
       "<matplotlib.legend.Legend at 0x7fdb294b1d68>"
      ]
     },
     "execution_count": 67,
     "metadata": {},
     "output_type": "execute_result"
    },
    {
     "data": {
      "image/png": "[encoded data removed]",
      "text/plain": [
       "<Figure size 432x288 with 1 Axes>"
      ]
     },
     "metadata": {
      "needs_background": "light"
     },
     "output_type": "display_data"
    }
   ],
   "source": [
    "# Here we can see the difference between the 'Original Turnover' vs 'Predicted Turnover'\n",
    "plt.plot(test_y,label='Original Turnover',c='seagreen')\n",
    "plt.plot(predictions,label='Predicted Turnover',c='red')\n",
    "plt.xlabel(\"Days\")\n",
    "plt.ylabel(\"Price\")\n",
    "plt.legend()"
   ]
  },
  {
   "cell_type": "code",
   "execution_count": null,
   "metadata": {},
   "outputs": [],
   "source": []
  },
  {
   "cell_type": "code",
   "execution_count": null,
   "metadata": {},
   "outputs": [],
   "source": []
  }
 ],
 "metadata": {
  "kernelspec": {
   "display_name": "Python 3",
   "language": "python",
   "name": "python3"
  },
  "language_info": {
   "codemirror_mode": {
    "name": "ipython",
    "version": 3
   },
   "file_extension": ".py",
   "mimetype": "text/x-python",
   "name": "python",
   "nbconvert_exporter": "python",
   "pygments_lexer": "ipython3",
   "version": "3.6.7"
  }
 },
 "nbformat": 4,
 "nbformat_minor": 2
}
